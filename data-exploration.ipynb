{
 "cells": [
  {
   "cell_type": "code",
   "execution_count": 67,
   "metadata": {},
   "outputs": [
    {
     "name": "stdout",
     "output_type": "stream",
     "text": [
      "Collecting Jinja2Note: you may need to restart the kernel to use updated packages.\n"
     ]
    },
    {
     "name": "stderr",
     "output_type": "stream",
     "text": [
      "\n",
      "[notice] A new release of pip available: 22.3.1 -> 24.0\n",
      "[notice] To update, run: python.exe -m pip install --upgrade pip\n"
     ]
    },
    {
     "name": "stdout",
     "output_type": "stream",
     "text": [
      "\n",
      "  Downloading Jinja2-3.1.3-py3-none-any.whl (133 kB)\n",
      "     -------------------------------------- 133.2/133.2 kB 3.8 MB/s eta 0:00:00\n",
      "Collecting MarkupSafe>=2.0\n",
      "  Downloading MarkupSafe-2.1.5-cp311-cp311-win_amd64.whl (17 kB)\n",
      "Installing collected packages: MarkupSafe, Jinja2\n",
      "Successfully installed Jinja2-3.1.3 MarkupSafe-2.1.5\n"
     ]
    }
   ],
   "source": [
    "#Install  \n",
    "#%pip install seaborn\n",
    "#%pip install matplotlib\n",
    "#%pip install Jinja2"
   ]
  },
  {
   "cell_type": "markdown",
   "metadata": {},
   "source": [
    "Import all the necessary libraries"
   ]
  },
  {
   "cell_type": "code",
   "execution_count": 68,
   "metadata": {},
   "outputs": [],
   "source": [
    "from jinja2 import Template"
   ]
  },
  {
   "cell_type": "code",
   "execution_count": 6,
   "metadata": {},
   "outputs": [],
   "source": [
    "#import numpy as np\n",
    "#import pandas as pd\n",
    "#import matplotlib.pyplot as plt\n",
    "#import seaborn as sns\n",
    "from encodings.aliases import aliases #Python has a file containing a dictionary of encoding names and associated alias\n",
    "\n",
    "#the matplotlib plot will appear directly below the cell in wich the plot function was called\n",
    "%matplotlib inline"
   ]
  },
  {
   "cell_type": "code",
   "execution_count": 51,
   "metadata": {},
   "outputs": [],
   "source": [
    "import matplotlib.pyplot as plt"
   ]
  },
  {
   "cell_type": "code",
   "execution_count": 60,
   "metadata": {},
   "outputs": [],
   "source": [
    "import seaborn as sns"
   ]
  },
  {
   "cell_type": "markdown",
   "metadata": {},
   "source": [
    "Read in the csv files and remove duplicates"
   ]
  },
  {
   "cell_type": "code",
   "execution_count": 14,
   "metadata": {},
   "outputs": [
    {
     "name": "stdout",
     "output_type": "stream",
     "text": [
      "successful utf-8\n",
      "successful ISO-8859-11\n",
      "successful cp1252\n"
     ]
    }
   ],
   "source": [
    "#To find encodings that work\n",
    "encodings =['utf-8', 'ISO-8859-11', 'cp1252']\n",
    "\n",
    "for encoding in encodings:\n",
    "    try:\n",
    "        df = pd.read_csv(\"crime.csv\", nrows=10, encoding=encoding)\n",
    "        print('successful',encoding)\n",
    "    except Exception as e:\n",
    "        print(f'Error with {encoding}: {e}')"
   ]
  },
  {
   "cell_type": "code",
   "execution_count": 16,
   "metadata": {},
   "outputs": [],
   "source": [
    "# Read in the crime.csv file and use the timestamp as a datetime index\n",
    "crime = pd.read_csv(\"crime.csv\", encoding=\"ISO-8859-11\")"
   ]
  },
  {
   "cell_type": "code",
   "execution_count": 17,
   "metadata": {},
   "outputs": [
    {
     "data": {
      "text/html": [
       "<div>\n",
       "<style scoped>\n",
       "    .dataframe tbody tr th:only-of-type {\n",
       "        vertical-align: middle;\n",
       "    }\n",
       "\n",
       "    .dataframe tbody tr th {\n",
       "        vertical-align: top;\n",
       "    }\n",
       "\n",
       "    .dataframe thead th {\n",
       "        text-align: right;\n",
       "    }\n",
       "</style>\n",
       "<table border=\"1\" class=\"dataframe\">\n",
       "  <thead>\n",
       "    <tr style=\"text-align: right;\">\n",
       "      <th></th>\n",
       "      <th>INCIDENT_NUMBER</th>\n",
       "      <th>OFFENSE_CODE</th>\n",
       "      <th>OFFENSE_CODE_GROUP</th>\n",
       "      <th>OFFENSE_DESCRIPTION</th>\n",
       "      <th>DISTRICT</th>\n",
       "      <th>REPORTING_AREA</th>\n",
       "      <th>SHOOTING</th>\n",
       "      <th>OCCURRED_ON_DATE</th>\n",
       "      <th>YEAR</th>\n",
       "      <th>MONTH</th>\n",
       "      <th>DAY_OF_WEEK</th>\n",
       "      <th>HOUR</th>\n",
       "      <th>UCR_PART</th>\n",
       "      <th>STREET</th>\n",
       "      <th>Lat</th>\n",
       "      <th>Long</th>\n",
       "      <th>Location</th>\n",
       "    </tr>\n",
       "  </thead>\n",
       "  <tbody>\n",
       "    <tr>\n",
       "      <th>0</th>\n",
       "      <td>I182070945</td>\n",
       "      <td>619</td>\n",
       "      <td>Larceny</td>\n",
       "      <td>LARCENY ALL OTHERS</td>\n",
       "      <td>D14</td>\n",
       "      <td>808</td>\n",
       "      <td>NaN</td>\n",
       "      <td>2018-09-02 13:00:00</td>\n",
       "      <td>2018</td>\n",
       "      <td>9</td>\n",
       "      <td>Sunday</td>\n",
       "      <td>13</td>\n",
       "      <td>Part One</td>\n",
       "      <td>LINCOLN ST</td>\n",
       "      <td>42.357791</td>\n",
       "      <td>-71.139371</td>\n",
       "      <td>(42.35779134, -71.13937053)</td>\n",
       "    </tr>\n",
       "    <tr>\n",
       "      <th>1</th>\n",
       "      <td>I182070943</td>\n",
       "      <td>1402</td>\n",
       "      <td>Vandalism</td>\n",
       "      <td>VANDALISM</td>\n",
       "      <td>C11</td>\n",
       "      <td>347</td>\n",
       "      <td>NaN</td>\n",
       "      <td>2018-08-21 00:00:00</td>\n",
       "      <td>2018</td>\n",
       "      <td>8</td>\n",
       "      <td>Tuesday</td>\n",
       "      <td>0</td>\n",
       "      <td>Part Two</td>\n",
       "      <td>HECLA ST</td>\n",
       "      <td>42.306821</td>\n",
       "      <td>-71.060300</td>\n",
       "      <td>(42.30682138, -71.06030035)</td>\n",
       "    </tr>\n",
       "    <tr>\n",
       "      <th>2</th>\n",
       "      <td>I182070941</td>\n",
       "      <td>3410</td>\n",
       "      <td>Towed</td>\n",
       "      <td>TOWED MOTOR VEHICLE</td>\n",
       "      <td>D4</td>\n",
       "      <td>151</td>\n",
       "      <td>NaN</td>\n",
       "      <td>2018-09-03 19:27:00</td>\n",
       "      <td>2018</td>\n",
       "      <td>9</td>\n",
       "      <td>Monday</td>\n",
       "      <td>19</td>\n",
       "      <td>Part Three</td>\n",
       "      <td>CAZENOVE ST</td>\n",
       "      <td>42.346589</td>\n",
       "      <td>-71.072429</td>\n",
       "      <td>(42.34658879, -71.07242943)</td>\n",
       "    </tr>\n",
       "    <tr>\n",
       "      <th>3</th>\n",
       "      <td>I182070940</td>\n",
       "      <td>3114</td>\n",
       "      <td>Investigate Property</td>\n",
       "      <td>INVESTIGATE PROPERTY</td>\n",
       "      <td>D4</td>\n",
       "      <td>272</td>\n",
       "      <td>NaN</td>\n",
       "      <td>2018-09-03 21:16:00</td>\n",
       "      <td>2018</td>\n",
       "      <td>9</td>\n",
       "      <td>Monday</td>\n",
       "      <td>21</td>\n",
       "      <td>Part Three</td>\n",
       "      <td>NEWCOMB ST</td>\n",
       "      <td>42.334182</td>\n",
       "      <td>-71.078664</td>\n",
       "      <td>(42.33418175, -71.07866441)</td>\n",
       "    </tr>\n",
       "    <tr>\n",
       "      <th>4</th>\n",
       "      <td>I182070938</td>\n",
       "      <td>3114</td>\n",
       "      <td>Investigate Property</td>\n",
       "      <td>INVESTIGATE PROPERTY</td>\n",
       "      <td>B3</td>\n",
       "      <td>421</td>\n",
       "      <td>NaN</td>\n",
       "      <td>2018-09-03 21:05:00</td>\n",
       "      <td>2018</td>\n",
       "      <td>9</td>\n",
       "      <td>Monday</td>\n",
       "      <td>21</td>\n",
       "      <td>Part Three</td>\n",
       "      <td>DELHI ST</td>\n",
       "      <td>42.275365</td>\n",
       "      <td>-71.090361</td>\n",
       "      <td>(42.27536542, -71.09036101)</td>\n",
       "    </tr>\n",
       "  </tbody>\n",
       "</table>\n",
       "</div>"
      ],
      "text/plain": [
       "  INCIDENT_NUMBER  OFFENSE_CODE    OFFENSE_CODE_GROUP   OFFENSE_DESCRIPTION  \\\n",
       "0      I182070945           619               Larceny    LARCENY ALL OTHERS   \n",
       "1      I182070943          1402             Vandalism             VANDALISM   \n",
       "2      I182070941          3410                 Towed   TOWED MOTOR VEHICLE   \n",
       "3      I182070940          3114  Investigate Property  INVESTIGATE PROPERTY   \n",
       "4      I182070938          3114  Investigate Property  INVESTIGATE PROPERTY   \n",
       "\n",
       "  DISTRICT REPORTING_AREA SHOOTING     OCCURRED_ON_DATE  YEAR  MONTH  \\\n",
       "0      D14            808      NaN  2018-09-02 13:00:00  2018      9   \n",
       "1      C11            347      NaN  2018-08-21 00:00:00  2018      8   \n",
       "2       D4            151      NaN  2018-09-03 19:27:00  2018      9   \n",
       "3       D4            272      NaN  2018-09-03 21:16:00  2018      9   \n",
       "4       B3            421      NaN  2018-09-03 21:05:00  2018      9   \n",
       "\n",
       "  DAY_OF_WEEK  HOUR    UCR_PART       STREET        Lat       Long  \\\n",
       "0      Sunday    13    Part One   LINCOLN ST  42.357791 -71.139371   \n",
       "1     Tuesday     0    Part Two     HECLA ST  42.306821 -71.060300   \n",
       "2      Monday    19  Part Three  CAZENOVE ST  42.346589 -71.072429   \n",
       "3      Monday    21  Part Three   NEWCOMB ST  42.334182 -71.078664   \n",
       "4      Monday    21  Part Three     DELHI ST  42.275365 -71.090361   \n",
       "\n",
       "                      Location  \n",
       "0  (42.35779134, -71.13937053)  \n",
       "1  (42.30682138, -71.06030035)  \n",
       "2  (42.34658879, -71.07242943)  \n",
       "3  (42.33418175, -71.07866441)  \n",
       "4  (42.27536542, -71.09036101)  "
      ]
     },
     "execution_count": 17,
     "metadata": {},
     "output_type": "execute_result"
    }
   ],
   "source": [
    "crime.head() #Quick check on how the dataset looks like"
   ]
  },
  {
   "cell_type": "code",
   "execution_count": 18,
   "metadata": {},
   "outputs": [
    {
     "data": {
      "text/plain": [
       "(319073, 17)"
      ]
     },
     "execution_count": 18,
     "metadata": {},
     "output_type": "execute_result"
    }
   ],
   "source": [
    "#Checking the shape of the data. It has 319,073 rows and 17 columns\n",
    "crime.shape "
   ]
  },
  {
   "cell_type": "code",
   "execution_count": 19,
   "metadata": {},
   "outputs": [
    {
     "data": {
      "text/plain": [
       "23"
      ]
     },
     "execution_count": 19,
     "metadata": {},
     "output_type": "execute_result"
    }
   ],
   "source": [
    "#Counting the duplicate rows\n",
    "crime.duplicated().sum()"
   ]
  },
  {
   "cell_type": "code",
   "execution_count": 20,
   "metadata": {},
   "outputs": [],
   "source": [
    "#Dropping the duplicate rows (changes permanent)\n",
    "crime.drop_duplicates(inplace=True)"
   ]
  },
  {
   "cell_type": "code",
   "execution_count": 21,
   "metadata": {},
   "outputs": [
    {
     "data": {
      "text/plain": [
       "(319050, 17)"
      ]
     },
     "execution_count": 21,
     "metadata": {},
     "output_type": "execute_result"
    }
   ],
   "source": [
    "#Checking the shape again to see if dropping the duplicate rows worked\n",
    "crime.shape"
   ]
  },
  {
   "cell_type": "markdown",
   "metadata": {},
   "source": [
    "Explore the dataset"
   ]
  },
  {
   "cell_type": "code",
   "execution_count": 22,
   "metadata": {},
   "outputs": [
    {
     "data": {
      "text/html": [
       "<div>\n",
       "<style scoped>\n",
       "    .dataframe tbody tr th:only-of-type {\n",
       "        vertical-align: middle;\n",
       "    }\n",
       "\n",
       "    .dataframe tbody tr th {\n",
       "        vertical-align: top;\n",
       "    }\n",
       "\n",
       "    .dataframe thead th {\n",
       "        text-align: right;\n",
       "    }\n",
       "</style>\n",
       "<table border=\"1\" class=\"dataframe\">\n",
       "  <thead>\n",
       "    <tr style=\"text-align: right;\">\n",
       "      <th></th>\n",
       "      <th>INCIDENT_NUMBER</th>\n",
       "      <th>OFFENSE_CODE</th>\n",
       "      <th>OFFENSE_CODE_GROUP</th>\n",
       "      <th>OFFENSE_DESCRIPTION</th>\n",
       "      <th>DISTRICT</th>\n",
       "      <th>REPORTING_AREA</th>\n",
       "      <th>SHOOTING</th>\n",
       "      <th>OCCURRED_ON_DATE</th>\n",
       "      <th>YEAR</th>\n",
       "      <th>MONTH</th>\n",
       "      <th>DAY_OF_WEEK</th>\n",
       "      <th>HOUR</th>\n",
       "      <th>UCR_PART</th>\n",
       "      <th>STREET</th>\n",
       "      <th>Lat</th>\n",
       "      <th>Long</th>\n",
       "      <th>Location</th>\n",
       "    </tr>\n",
       "  </thead>\n",
       "  <tbody>\n",
       "    <tr>\n",
       "      <th>0</th>\n",
       "      <td>I182070945</td>\n",
       "      <td>619</td>\n",
       "      <td>Larceny</td>\n",
       "      <td>LARCENY ALL OTHERS</td>\n",
       "      <td>D14</td>\n",
       "      <td>808</td>\n",
       "      <td>NaN</td>\n",
       "      <td>2018-09-02 13:00:00</td>\n",
       "      <td>2018</td>\n",
       "      <td>9</td>\n",
       "      <td>Sunday</td>\n",
       "      <td>13</td>\n",
       "      <td>Part One</td>\n",
       "      <td>LINCOLN ST</td>\n",
       "      <td>42.357791</td>\n",
       "      <td>-71.139371</td>\n",
       "      <td>(42.35779134, -71.13937053)</td>\n",
       "    </tr>\n",
       "    <tr>\n",
       "      <th>1</th>\n",
       "      <td>I182070943</td>\n",
       "      <td>1402</td>\n",
       "      <td>Vandalism</td>\n",
       "      <td>VANDALISM</td>\n",
       "      <td>C11</td>\n",
       "      <td>347</td>\n",
       "      <td>NaN</td>\n",
       "      <td>2018-08-21 00:00:00</td>\n",
       "      <td>2018</td>\n",
       "      <td>8</td>\n",
       "      <td>Tuesday</td>\n",
       "      <td>0</td>\n",
       "      <td>Part Two</td>\n",
       "      <td>HECLA ST</td>\n",
       "      <td>42.306821</td>\n",
       "      <td>-71.060300</td>\n",
       "      <td>(42.30682138, -71.06030035)</td>\n",
       "    </tr>\n",
       "    <tr>\n",
       "      <th>2</th>\n",
       "      <td>I182070941</td>\n",
       "      <td>3410</td>\n",
       "      <td>Towed</td>\n",
       "      <td>TOWED MOTOR VEHICLE</td>\n",
       "      <td>D4</td>\n",
       "      <td>151</td>\n",
       "      <td>NaN</td>\n",
       "      <td>2018-09-03 19:27:00</td>\n",
       "      <td>2018</td>\n",
       "      <td>9</td>\n",
       "      <td>Monday</td>\n",
       "      <td>19</td>\n",
       "      <td>Part Three</td>\n",
       "      <td>CAZENOVE ST</td>\n",
       "      <td>42.346589</td>\n",
       "      <td>-71.072429</td>\n",
       "      <td>(42.34658879, -71.07242943)</td>\n",
       "    </tr>\n",
       "    <tr>\n",
       "      <th>3</th>\n",
       "      <td>I182070940</td>\n",
       "      <td>3114</td>\n",
       "      <td>Investigate Property</td>\n",
       "      <td>INVESTIGATE PROPERTY</td>\n",
       "      <td>D4</td>\n",
       "      <td>272</td>\n",
       "      <td>NaN</td>\n",
       "      <td>2018-09-03 21:16:00</td>\n",
       "      <td>2018</td>\n",
       "      <td>9</td>\n",
       "      <td>Monday</td>\n",
       "      <td>21</td>\n",
       "      <td>Part Three</td>\n",
       "      <td>NEWCOMB ST</td>\n",
       "      <td>42.334182</td>\n",
       "      <td>-71.078664</td>\n",
       "      <td>(42.33418175, -71.07866441)</td>\n",
       "    </tr>\n",
       "    <tr>\n",
       "      <th>4</th>\n",
       "      <td>I182070938</td>\n",
       "      <td>3114</td>\n",
       "      <td>Investigate Property</td>\n",
       "      <td>INVESTIGATE PROPERTY</td>\n",
       "      <td>B3</td>\n",
       "      <td>421</td>\n",
       "      <td>NaN</td>\n",
       "      <td>2018-09-03 21:05:00</td>\n",
       "      <td>2018</td>\n",
       "      <td>9</td>\n",
       "      <td>Monday</td>\n",
       "      <td>21</td>\n",
       "      <td>Part Three</td>\n",
       "      <td>DELHI ST</td>\n",
       "      <td>42.275365</td>\n",
       "      <td>-71.090361</td>\n",
       "      <td>(42.27536542, -71.09036101)</td>\n",
       "    </tr>\n",
       "  </tbody>\n",
       "</table>\n",
       "</div>"
      ],
      "text/plain": [
       "  INCIDENT_NUMBER  OFFENSE_CODE    OFFENSE_CODE_GROUP   OFFENSE_DESCRIPTION  \\\n",
       "0      I182070945           619               Larceny    LARCENY ALL OTHERS   \n",
       "1      I182070943          1402             Vandalism             VANDALISM   \n",
       "2      I182070941          3410                 Towed   TOWED MOTOR VEHICLE   \n",
       "3      I182070940          3114  Investigate Property  INVESTIGATE PROPERTY   \n",
       "4      I182070938          3114  Investigate Property  INVESTIGATE PROPERTY   \n",
       "\n",
       "  DISTRICT REPORTING_AREA SHOOTING     OCCURRED_ON_DATE  YEAR  MONTH  \\\n",
       "0      D14            808      NaN  2018-09-02 13:00:00  2018      9   \n",
       "1      C11            347      NaN  2018-08-21 00:00:00  2018      8   \n",
       "2       D4            151      NaN  2018-09-03 19:27:00  2018      9   \n",
       "3       D4            272      NaN  2018-09-03 21:16:00  2018      9   \n",
       "4       B3            421      NaN  2018-09-03 21:05:00  2018      9   \n",
       "\n",
       "  DAY_OF_WEEK  HOUR    UCR_PART       STREET        Lat       Long  \\\n",
       "0      Sunday    13    Part One   LINCOLN ST  42.357791 -71.139371   \n",
       "1     Tuesday     0    Part Two     HECLA ST  42.306821 -71.060300   \n",
       "2      Monday    19  Part Three  CAZENOVE ST  42.346589 -71.072429   \n",
       "3      Monday    21  Part Three   NEWCOMB ST  42.334182 -71.078664   \n",
       "4      Monday    21  Part Three     DELHI ST  42.275365 -71.090361   \n",
       "\n",
       "                      Location  \n",
       "0  (42.35779134, -71.13937053)  \n",
       "1  (42.30682138, -71.06030035)  \n",
       "2  (42.34658879, -71.07242943)  \n",
       "3  (42.33418175, -71.07866441)  \n",
       "4  (42.27536542, -71.09036101)  "
      ]
     },
     "execution_count": 22,
     "metadata": {},
     "output_type": "execute_result"
    }
   ],
   "source": [
    "# Quick check of the beginning of the dataframe\n",
    "crime.head()"
   ]
  },
  {
   "cell_type": "code",
   "execution_count": 23,
   "metadata": {},
   "outputs": [
    {
     "data": {
      "text/html": [
       "<div>\n",
       "<style scoped>\n",
       "    .dataframe tbody tr th:only-of-type {\n",
       "        vertical-align: middle;\n",
       "    }\n",
       "\n",
       "    .dataframe tbody tr th {\n",
       "        vertical-align: top;\n",
       "    }\n",
       "\n",
       "    .dataframe thead th {\n",
       "        text-align: right;\n",
       "    }\n",
       "</style>\n",
       "<table border=\"1\" class=\"dataframe\">\n",
       "  <thead>\n",
       "    <tr style=\"text-align: right;\">\n",
       "      <th></th>\n",
       "      <th>INCIDENT_NUMBER</th>\n",
       "      <th>OFFENSE_CODE</th>\n",
       "      <th>OFFENSE_CODE_GROUP</th>\n",
       "      <th>OFFENSE_DESCRIPTION</th>\n",
       "      <th>DISTRICT</th>\n",
       "      <th>REPORTING_AREA</th>\n",
       "      <th>SHOOTING</th>\n",
       "      <th>OCCURRED_ON_DATE</th>\n",
       "      <th>YEAR</th>\n",
       "      <th>MONTH</th>\n",
       "      <th>DAY_OF_WEEK</th>\n",
       "      <th>HOUR</th>\n",
       "      <th>UCR_PART</th>\n",
       "      <th>STREET</th>\n",
       "      <th>Lat</th>\n",
       "      <th>Long</th>\n",
       "      <th>Location</th>\n",
       "    </tr>\n",
       "  </thead>\n",
       "  <tbody>\n",
       "    <tr>\n",
       "      <th>319068</th>\n",
       "      <td>I050310906-00</td>\n",
       "      <td>3125</td>\n",
       "      <td>Warrant Arrests</td>\n",
       "      <td>WARRANT ARREST</td>\n",
       "      <td>D4</td>\n",
       "      <td>285</td>\n",
       "      <td>NaN</td>\n",
       "      <td>2016-06-05 17:25:00</td>\n",
       "      <td>2016</td>\n",
       "      <td>6</td>\n",
       "      <td>Sunday</td>\n",
       "      <td>17</td>\n",
       "      <td>Part Three</td>\n",
       "      <td>COVENTRY ST</td>\n",
       "      <td>42.336951</td>\n",
       "      <td>-71.085748</td>\n",
       "      <td>(42.33695098, -71.08574813)</td>\n",
       "    </tr>\n",
       "    <tr>\n",
       "      <th>319069</th>\n",
       "      <td>I030217815-08</td>\n",
       "      <td>111</td>\n",
       "      <td>Homicide</td>\n",
       "      <td>MURDER, NON-NEGLIGIENT MANSLAUGHTER</td>\n",
       "      <td>E18</td>\n",
       "      <td>520</td>\n",
       "      <td>NaN</td>\n",
       "      <td>2015-07-09 13:38:00</td>\n",
       "      <td>2015</td>\n",
       "      <td>7</td>\n",
       "      <td>Thursday</td>\n",
       "      <td>13</td>\n",
       "      <td>Part One</td>\n",
       "      <td>RIVER ST</td>\n",
       "      <td>42.255926</td>\n",
       "      <td>-71.123172</td>\n",
       "      <td>(42.25592648, -71.12317207)</td>\n",
       "    </tr>\n",
       "    <tr>\n",
       "      <th>319070</th>\n",
       "      <td>I030217815-08</td>\n",
       "      <td>3125</td>\n",
       "      <td>Warrant Arrests</td>\n",
       "      <td>WARRANT ARREST</td>\n",
       "      <td>E18</td>\n",
       "      <td>520</td>\n",
       "      <td>NaN</td>\n",
       "      <td>2015-07-09 13:38:00</td>\n",
       "      <td>2015</td>\n",
       "      <td>7</td>\n",
       "      <td>Thursday</td>\n",
       "      <td>13</td>\n",
       "      <td>Part Three</td>\n",
       "      <td>RIVER ST</td>\n",
       "      <td>42.255926</td>\n",
       "      <td>-71.123172</td>\n",
       "      <td>(42.25592648, -71.12317207)</td>\n",
       "    </tr>\n",
       "    <tr>\n",
       "      <th>319071</th>\n",
       "      <td>I010370257-00</td>\n",
       "      <td>3125</td>\n",
       "      <td>Warrant Arrests</td>\n",
       "      <td>WARRANT ARREST</td>\n",
       "      <td>E13</td>\n",
       "      <td>569</td>\n",
       "      <td>NaN</td>\n",
       "      <td>2016-05-31 19:35:00</td>\n",
       "      <td>2016</td>\n",
       "      <td>5</td>\n",
       "      <td>Tuesday</td>\n",
       "      <td>19</td>\n",
       "      <td>Part Three</td>\n",
       "      <td>NEW WASHINGTON ST</td>\n",
       "      <td>42.302333</td>\n",
       "      <td>-71.111565</td>\n",
       "      <td>(42.30233307, -71.11156487)</td>\n",
       "    </tr>\n",
       "    <tr>\n",
       "      <th>319072</th>\n",
       "      <td>142052550</td>\n",
       "      <td>3125</td>\n",
       "      <td>Warrant Arrests</td>\n",
       "      <td>WARRANT ARREST</td>\n",
       "      <td>D4</td>\n",
       "      <td>903</td>\n",
       "      <td>NaN</td>\n",
       "      <td>2015-06-22 00:12:00</td>\n",
       "      <td>2015</td>\n",
       "      <td>6</td>\n",
       "      <td>Monday</td>\n",
       "      <td>0</td>\n",
       "      <td>Part Three</td>\n",
       "      <td>WASHINGTON ST</td>\n",
       "      <td>42.333839</td>\n",
       "      <td>-71.080290</td>\n",
       "      <td>(42.33383935, -71.08029038)</td>\n",
       "    </tr>\n",
       "  </tbody>\n",
       "</table>\n",
       "</div>"
      ],
      "text/plain": [
       "       INCIDENT_NUMBER  OFFENSE_CODE OFFENSE_CODE_GROUP  \\\n",
       "319068   I050310906-00          3125    Warrant Arrests   \n",
       "319069   I030217815-08           111           Homicide   \n",
       "319070   I030217815-08          3125    Warrant Arrests   \n",
       "319071   I010370257-00          3125    Warrant Arrests   \n",
       "319072       142052550          3125    Warrant Arrests   \n",
       "\n",
       "                        OFFENSE_DESCRIPTION DISTRICT REPORTING_AREA SHOOTING  \\\n",
       "319068                       WARRANT ARREST       D4            285      NaN   \n",
       "319069  MURDER, NON-NEGLIGIENT MANSLAUGHTER      E18            520      NaN   \n",
       "319070                       WARRANT ARREST      E18            520      NaN   \n",
       "319071                       WARRANT ARREST      E13            569      NaN   \n",
       "319072                       WARRANT ARREST       D4            903      NaN   \n",
       "\n",
       "           OCCURRED_ON_DATE  YEAR  MONTH DAY_OF_WEEK  HOUR    UCR_PART  \\\n",
       "319068  2016-06-05 17:25:00  2016      6      Sunday    17  Part Three   \n",
       "319069  2015-07-09 13:38:00  2015      7    Thursday    13    Part One   \n",
       "319070  2015-07-09 13:38:00  2015      7    Thursday    13  Part Three   \n",
       "319071  2016-05-31 19:35:00  2016      5     Tuesday    19  Part Three   \n",
       "319072  2015-06-22 00:12:00  2015      6      Monday     0  Part Three   \n",
       "\n",
       "                   STREET        Lat       Long                     Location  \n",
       "319068        COVENTRY ST  42.336951 -71.085748  (42.33695098, -71.08574813)  \n",
       "319069           RIVER ST  42.255926 -71.123172  (42.25592648, -71.12317207)  \n",
       "319070           RIVER ST  42.255926 -71.123172  (42.25592648, -71.12317207)  \n",
       "319071  NEW WASHINGTON ST  42.302333 -71.111565  (42.30233307, -71.11156487)  \n",
       "319072      WASHINGTON ST  42.333839 -71.080290  (42.33383935, -71.08029038)  "
      ]
     },
     "execution_count": 23,
     "metadata": {},
     "output_type": "execute_result"
    }
   ],
   "source": [
    "#Quick check of the end of the dataset\n",
    "crime.tail()"
   ]
  },
  {
   "cell_type": "code",
   "execution_count": 27,
   "metadata": {},
   "outputs": [],
   "source": [
    "pd.options.display.max_rows = 10"
   ]
  },
  {
   "cell_type": "code",
   "execution_count": 28,
   "metadata": {},
   "outputs": [
    {
     "data": {
      "text/html": [
       "<div>\n",
       "<style scoped>\n",
       "    .dataframe tbody tr th:only-of-type {\n",
       "        vertical-align: middle;\n",
       "    }\n",
       "\n",
       "    .dataframe tbody tr th {\n",
       "        vertical-align: top;\n",
       "    }\n",
       "\n",
       "    .dataframe thead th {\n",
       "        text-align: right;\n",
       "    }\n",
       "</style>\n",
       "<table border=\"1\" class=\"dataframe\">\n",
       "  <thead>\n",
       "    <tr style=\"text-align: right;\">\n",
       "      <th></th>\n",
       "      <th>INCIDENT_NUMBER</th>\n",
       "      <th>OFFENSE_CODE</th>\n",
       "      <th>OFFENSE_CODE_GROUP</th>\n",
       "      <th>OFFENSE_DESCRIPTION</th>\n",
       "      <th>DISTRICT</th>\n",
       "      <th>REPORTING_AREA</th>\n",
       "      <th>SHOOTING</th>\n",
       "      <th>OCCURRED_ON_DATE</th>\n",
       "      <th>YEAR</th>\n",
       "      <th>MONTH</th>\n",
       "      <th>DAY_OF_WEEK</th>\n",
       "      <th>HOUR</th>\n",
       "      <th>UCR_PART</th>\n",
       "      <th>STREET</th>\n",
       "      <th>Lat</th>\n",
       "      <th>Long</th>\n",
       "      <th>Location</th>\n",
       "    </tr>\n",
       "  </thead>\n",
       "  <tbody>\n",
       "    <tr>\n",
       "      <th>0</th>\n",
       "      <td>I182070945</td>\n",
       "      <td>619</td>\n",
       "      <td>Larceny</td>\n",
       "      <td>LARCENY ALL OTHERS</td>\n",
       "      <td>D14</td>\n",
       "      <td>808</td>\n",
       "      <td>NaN</td>\n",
       "      <td>2018-09-02 13:00:00</td>\n",
       "      <td>2018</td>\n",
       "      <td>9</td>\n",
       "      <td>Sunday</td>\n",
       "      <td>13</td>\n",
       "      <td>Part One</td>\n",
       "      <td>LINCOLN ST</td>\n",
       "      <td>42.357791</td>\n",
       "      <td>-71.139371</td>\n",
       "      <td>(42.35779134, -71.13937053)</td>\n",
       "    </tr>\n",
       "    <tr>\n",
       "      <th>1</th>\n",
       "      <td>I182070943</td>\n",
       "      <td>1402</td>\n",
       "      <td>Vandalism</td>\n",
       "      <td>VANDALISM</td>\n",
       "      <td>C11</td>\n",
       "      <td>347</td>\n",
       "      <td>NaN</td>\n",
       "      <td>2018-08-21 00:00:00</td>\n",
       "      <td>2018</td>\n",
       "      <td>8</td>\n",
       "      <td>Tuesday</td>\n",
       "      <td>0</td>\n",
       "      <td>Part Two</td>\n",
       "      <td>HECLA ST</td>\n",
       "      <td>42.306821</td>\n",
       "      <td>-71.060300</td>\n",
       "      <td>(42.30682138, -71.06030035)</td>\n",
       "    </tr>\n",
       "    <tr>\n",
       "      <th>2</th>\n",
       "      <td>I182070941</td>\n",
       "      <td>3410</td>\n",
       "      <td>Towed</td>\n",
       "      <td>TOWED MOTOR VEHICLE</td>\n",
       "      <td>D4</td>\n",
       "      <td>151</td>\n",
       "      <td>NaN</td>\n",
       "      <td>2018-09-03 19:27:00</td>\n",
       "      <td>2018</td>\n",
       "      <td>9</td>\n",
       "      <td>Monday</td>\n",
       "      <td>19</td>\n",
       "      <td>Part Three</td>\n",
       "      <td>CAZENOVE ST</td>\n",
       "      <td>42.346589</td>\n",
       "      <td>-71.072429</td>\n",
       "      <td>(42.34658879, -71.07242943)</td>\n",
       "    </tr>\n",
       "    <tr>\n",
       "      <th>3</th>\n",
       "      <td>I182070940</td>\n",
       "      <td>3114</td>\n",
       "      <td>Investigate Property</td>\n",
       "      <td>INVESTIGATE PROPERTY</td>\n",
       "      <td>D4</td>\n",
       "      <td>272</td>\n",
       "      <td>NaN</td>\n",
       "      <td>2018-09-03 21:16:00</td>\n",
       "      <td>2018</td>\n",
       "      <td>9</td>\n",
       "      <td>Monday</td>\n",
       "      <td>21</td>\n",
       "      <td>Part Three</td>\n",
       "      <td>NEWCOMB ST</td>\n",
       "      <td>42.334182</td>\n",
       "      <td>-71.078664</td>\n",
       "      <td>(42.33418175, -71.07866441)</td>\n",
       "    </tr>\n",
       "    <tr>\n",
       "      <th>4</th>\n",
       "      <td>I182070938</td>\n",
       "      <td>3114</td>\n",
       "      <td>Investigate Property</td>\n",
       "      <td>INVESTIGATE PROPERTY</td>\n",
       "      <td>B3</td>\n",
       "      <td>421</td>\n",
       "      <td>NaN</td>\n",
       "      <td>2018-09-03 21:05:00</td>\n",
       "      <td>2018</td>\n",
       "      <td>9</td>\n",
       "      <td>Monday</td>\n",
       "      <td>21</td>\n",
       "      <td>Part Three</td>\n",
       "      <td>DELHI ST</td>\n",
       "      <td>42.275365</td>\n",
       "      <td>-71.090361</td>\n",
       "      <td>(42.27536542, -71.09036101)</td>\n",
       "    </tr>\n",
       "    <tr>\n",
       "      <th>...</th>\n",
       "      <td>...</td>\n",
       "      <td>...</td>\n",
       "      <td>...</td>\n",
       "      <td>...</td>\n",
       "      <td>...</td>\n",
       "      <td>...</td>\n",
       "      <td>...</td>\n",
       "      <td>...</td>\n",
       "      <td>...</td>\n",
       "      <td>...</td>\n",
       "      <td>...</td>\n",
       "      <td>...</td>\n",
       "      <td>...</td>\n",
       "      <td>...</td>\n",
       "      <td>...</td>\n",
       "      <td>...</td>\n",
       "      <td>...</td>\n",
       "    </tr>\n",
       "    <tr>\n",
       "      <th>319068</th>\n",
       "      <td>I050310906-00</td>\n",
       "      <td>3125</td>\n",
       "      <td>Warrant Arrests</td>\n",
       "      <td>WARRANT ARREST</td>\n",
       "      <td>D4</td>\n",
       "      <td>285</td>\n",
       "      <td>NaN</td>\n",
       "      <td>2016-06-05 17:25:00</td>\n",
       "      <td>2016</td>\n",
       "      <td>6</td>\n",
       "      <td>Sunday</td>\n",
       "      <td>17</td>\n",
       "      <td>Part Three</td>\n",
       "      <td>COVENTRY ST</td>\n",
       "      <td>42.336951</td>\n",
       "      <td>-71.085748</td>\n",
       "      <td>(42.33695098, -71.08574813)</td>\n",
       "    </tr>\n",
       "    <tr>\n",
       "      <th>319069</th>\n",
       "      <td>I030217815-08</td>\n",
       "      <td>111</td>\n",
       "      <td>Homicide</td>\n",
       "      <td>MURDER, NON-NEGLIGIENT MANSLAUGHTER</td>\n",
       "      <td>E18</td>\n",
       "      <td>520</td>\n",
       "      <td>NaN</td>\n",
       "      <td>2015-07-09 13:38:00</td>\n",
       "      <td>2015</td>\n",
       "      <td>7</td>\n",
       "      <td>Thursday</td>\n",
       "      <td>13</td>\n",
       "      <td>Part One</td>\n",
       "      <td>RIVER ST</td>\n",
       "      <td>42.255926</td>\n",
       "      <td>-71.123172</td>\n",
       "      <td>(42.25592648, -71.12317207)</td>\n",
       "    </tr>\n",
       "    <tr>\n",
       "      <th>319070</th>\n",
       "      <td>I030217815-08</td>\n",
       "      <td>3125</td>\n",
       "      <td>Warrant Arrests</td>\n",
       "      <td>WARRANT ARREST</td>\n",
       "      <td>E18</td>\n",
       "      <td>520</td>\n",
       "      <td>NaN</td>\n",
       "      <td>2015-07-09 13:38:00</td>\n",
       "      <td>2015</td>\n",
       "      <td>7</td>\n",
       "      <td>Thursday</td>\n",
       "      <td>13</td>\n",
       "      <td>Part Three</td>\n",
       "      <td>RIVER ST</td>\n",
       "      <td>42.255926</td>\n",
       "      <td>-71.123172</td>\n",
       "      <td>(42.25592648, -71.12317207)</td>\n",
       "    </tr>\n",
       "    <tr>\n",
       "      <th>319071</th>\n",
       "      <td>I010370257-00</td>\n",
       "      <td>3125</td>\n",
       "      <td>Warrant Arrests</td>\n",
       "      <td>WARRANT ARREST</td>\n",
       "      <td>E13</td>\n",
       "      <td>569</td>\n",
       "      <td>NaN</td>\n",
       "      <td>2016-05-31 19:35:00</td>\n",
       "      <td>2016</td>\n",
       "      <td>5</td>\n",
       "      <td>Tuesday</td>\n",
       "      <td>19</td>\n",
       "      <td>Part Three</td>\n",
       "      <td>NEW WASHINGTON ST</td>\n",
       "      <td>42.302333</td>\n",
       "      <td>-71.111565</td>\n",
       "      <td>(42.30233307, -71.11156487)</td>\n",
       "    </tr>\n",
       "    <tr>\n",
       "      <th>319072</th>\n",
       "      <td>142052550</td>\n",
       "      <td>3125</td>\n",
       "      <td>Warrant Arrests</td>\n",
       "      <td>WARRANT ARREST</td>\n",
       "      <td>D4</td>\n",
       "      <td>903</td>\n",
       "      <td>NaN</td>\n",
       "      <td>2015-06-22 00:12:00</td>\n",
       "      <td>2015</td>\n",
       "      <td>6</td>\n",
       "      <td>Monday</td>\n",
       "      <td>0</td>\n",
       "      <td>Part Three</td>\n",
       "      <td>WASHINGTON ST</td>\n",
       "      <td>42.333839</td>\n",
       "      <td>-71.080290</td>\n",
       "      <td>(42.33383935, -71.08029038)</td>\n",
       "    </tr>\n",
       "  </tbody>\n",
       "</table>\n",
       "<p>319050 rows × 17 columns</p>\n",
       "</div>"
      ],
      "text/plain": [
       "       INCIDENT_NUMBER  OFFENSE_CODE    OFFENSE_CODE_GROUP  \\\n",
       "0           I182070945           619               Larceny   \n",
       "1           I182070943          1402             Vandalism   \n",
       "2           I182070941          3410                 Towed   \n",
       "3           I182070940          3114  Investigate Property   \n",
       "4           I182070938          3114  Investigate Property   \n",
       "...                ...           ...                   ...   \n",
       "319068   I050310906-00          3125       Warrant Arrests   \n",
       "319069   I030217815-08           111              Homicide   \n",
       "319070   I030217815-08          3125       Warrant Arrests   \n",
       "319071   I010370257-00          3125       Warrant Arrests   \n",
       "319072       142052550          3125       Warrant Arrests   \n",
       "\n",
       "                        OFFENSE_DESCRIPTION DISTRICT REPORTING_AREA SHOOTING  \\\n",
       "0                        LARCENY ALL OTHERS      D14            808      NaN   \n",
       "1                                 VANDALISM      C11            347      NaN   \n",
       "2                       TOWED MOTOR VEHICLE       D4            151      NaN   \n",
       "3                      INVESTIGATE PROPERTY       D4            272      NaN   \n",
       "4                      INVESTIGATE PROPERTY       B3            421      NaN   \n",
       "...                                     ...      ...            ...      ...   \n",
       "319068                       WARRANT ARREST       D4            285      NaN   \n",
       "319069  MURDER, NON-NEGLIGIENT MANSLAUGHTER      E18            520      NaN   \n",
       "319070                       WARRANT ARREST      E18            520      NaN   \n",
       "319071                       WARRANT ARREST      E13            569      NaN   \n",
       "319072                       WARRANT ARREST       D4            903      NaN   \n",
       "\n",
       "           OCCURRED_ON_DATE  YEAR  MONTH DAY_OF_WEEK  HOUR    UCR_PART  \\\n",
       "0       2018-09-02 13:00:00  2018      9      Sunday    13    Part One   \n",
       "1       2018-08-21 00:00:00  2018      8     Tuesday     0    Part Two   \n",
       "2       2018-09-03 19:27:00  2018      9      Monday    19  Part Three   \n",
       "3       2018-09-03 21:16:00  2018      9      Monday    21  Part Three   \n",
       "4       2018-09-03 21:05:00  2018      9      Monday    21  Part Three   \n",
       "...                     ...   ...    ...         ...   ...         ...   \n",
       "319068  2016-06-05 17:25:00  2016      6      Sunday    17  Part Three   \n",
       "319069  2015-07-09 13:38:00  2015      7    Thursday    13    Part One   \n",
       "319070  2015-07-09 13:38:00  2015      7    Thursday    13  Part Three   \n",
       "319071  2016-05-31 19:35:00  2016      5     Tuesday    19  Part Three   \n",
       "319072  2015-06-22 00:12:00  2015      6      Monday     0  Part Three   \n",
       "\n",
       "                   STREET        Lat       Long                     Location  \n",
       "0              LINCOLN ST  42.357791 -71.139371  (42.35779134, -71.13937053)  \n",
       "1                HECLA ST  42.306821 -71.060300  (42.30682138, -71.06030035)  \n",
       "2             CAZENOVE ST  42.346589 -71.072429  (42.34658879, -71.07242943)  \n",
       "3              NEWCOMB ST  42.334182 -71.078664  (42.33418175, -71.07866441)  \n",
       "4                DELHI ST  42.275365 -71.090361  (42.27536542, -71.09036101)  \n",
       "...                   ...        ...        ...                          ...  \n",
       "319068        COVENTRY ST  42.336951 -71.085748  (42.33695098, -71.08574813)  \n",
       "319069           RIVER ST  42.255926 -71.123172  (42.25592648, -71.12317207)  \n",
       "319070           RIVER ST  42.255926 -71.123172  (42.25592648, -71.12317207)  \n",
       "319071  NEW WASHINGTON ST  42.302333 -71.111565  (42.30233307, -71.11156487)  \n",
       "319072      WASHINGTON ST  42.333839 -71.080290  (42.33383935, -71.08029038)  \n",
       "\n",
       "[319050 rows x 17 columns]"
      ]
     },
     "execution_count": 28,
     "metadata": {},
     "output_type": "execute_result"
    }
   ],
   "source": [
    "#Check beginning and end of the data\n",
    "crime"
   ]
  },
  {
   "cell_type": "code",
   "execution_count": 29,
   "metadata": {},
   "outputs": [
    {
     "name": "stdout",
     "output_type": "stream",
     "text": [
      "<class 'pandas.core.frame.DataFrame'>\n",
      "Index: 319050 entries, 0 to 319072\n",
      "Data columns (total 17 columns):\n",
      " #   Column               Non-Null Count   Dtype  \n",
      "---  ------               --------------   -----  \n",
      " 0   INCIDENT_NUMBER      319050 non-null  object \n",
      " 1   OFFENSE_CODE         319050 non-null  int64  \n",
      " 2   OFFENSE_CODE_GROUP   319050 non-null  object \n",
      " 3   OFFENSE_DESCRIPTION  319050 non-null  object \n",
      " 4   DISTRICT             317285 non-null  object \n",
      " 5   REPORTING_AREA       319050 non-null  object \n",
      " 6   SHOOTING             1019 non-null    object \n",
      " 7   OCCURRED_ON_DATE     319050 non-null  object \n",
      " 8   YEAR                 319050 non-null  int64  \n",
      " 9   MONTH                319050 non-null  int64  \n",
      " 10  DAY_OF_WEEK          319050 non-null  object \n",
      " 11  HOUR                 319050 non-null  int64  \n",
      " 12  UCR_PART             318960 non-null  object \n",
      " 13  STREET               308179 non-null  object \n",
      " 14  Lat                  299052 non-null  float64\n",
      " 15  Long                 299052 non-null  float64\n",
      " 16  Location             319050 non-null  object \n",
      "dtypes: float64(2), int64(4), object(11)\n",
      "memory usage: 43.8+ MB\n"
     ]
    }
   ],
   "source": [
    "#Summary information about the dataframe\n",
    "crime.info()"
   ]
  },
  {
   "cell_type": "code",
   "execution_count": 30,
   "metadata": {},
   "outputs": [],
   "source": [
    "# Changing the data type from object to datetime for the OCCCURED_ON_DATE column\n",
    "crime.OCCURRED_ON_DATE = pd.to_datetime(crime.OCCURRED_ON_DATE)"
   ]
  },
  {
   "cell_type": "code",
   "execution_count": 31,
   "metadata": {},
   "outputs": [
    {
     "name": "stdout",
     "output_type": "stream",
     "text": [
      "<class 'pandas.core.frame.DataFrame'>\n",
      "Index: 319050 entries, 0 to 319072\n",
      "Data columns (total 17 columns):\n",
      " #   Column               Non-Null Count   Dtype         \n",
      "---  ------               --------------   -----         \n",
      " 0   INCIDENT_NUMBER      319050 non-null  object        \n",
      " 1   OFFENSE_CODE         319050 non-null  int64         \n",
      " 2   OFFENSE_CODE_GROUP   319050 non-null  object        \n",
      " 3   OFFENSE_DESCRIPTION  319050 non-null  object        \n",
      " 4   DISTRICT             317285 non-null  object        \n",
      " 5   REPORTING_AREA       319050 non-null  object        \n",
      " 6   SHOOTING             1019 non-null    object        \n",
      " 7   OCCURRED_ON_DATE     319050 non-null  datetime64[ns]\n",
      " 8   YEAR                 319050 non-null  int64         \n",
      " 9   MONTH                319050 non-null  int64         \n",
      " 10  DAY_OF_WEEK          319050 non-null  object        \n",
      " 11  HOUR                 319050 non-null  int64         \n",
      " 12  UCR_PART             318960 non-null  object        \n",
      " 13  STREET               308179 non-null  object        \n",
      " 14  Lat                  299052 non-null  float64       \n",
      " 15  Long                 299052 non-null  float64       \n",
      " 16  Location             319050 non-null  object        \n",
      "dtypes: datetime64[ns](1), float64(2), int64(4), object(10)\n",
      "memory usage: 43.8+ MB\n"
     ]
    }
   ],
   "source": [
    "#Check if it worked\n",
    "crime.info()"
   ]
  },
  {
   "cell_type": "code",
   "execution_count": 32,
   "metadata": {},
   "outputs": [
    {
     "data": {
      "text/plain": [
       "0         2018\n",
       "1         2018\n",
       "2         2018\n",
       "3         2018\n",
       "4         2018\n",
       "          ... \n",
       "319068    2016\n",
       "319069    2015\n",
       "319070    2015\n",
       "319071    2016\n",
       "319072    2015\n",
       "Name: OCCURRED_ON_DATE, Length: 319050, dtype: int32"
      ]
     },
     "execution_count": 32,
     "metadata": {},
     "output_type": "execute_result"
    }
   ],
   "source": [
    "#easily extract datetime information frome the OCCURRED_ON_DATE column\n",
    "crime.OCCURRED_ON_DATE.dt.year"
   ]
  },
  {
   "cell_type": "code",
   "execution_count": 33,
   "metadata": {},
   "outputs": [
    {
     "data": {
      "text/plain": [
       "0         9\n",
       "1         8\n",
       "2         9\n",
       "3         9\n",
       "4         9\n",
       "         ..\n",
       "319068    6\n",
       "319069    7\n",
       "319070    7\n",
       "319071    5\n",
       "319072    6\n",
       "Name: OCCURRED_ON_DATE, Length: 319050, dtype: int32"
      ]
     },
     "execution_count": 33,
     "metadata": {},
     "output_type": "execute_result"
    }
   ],
   "source": [
    "crime.OCCURRED_ON_DATE.dt.month"
   ]
  },
  {
   "cell_type": "code",
   "execution_count": 35,
   "metadata": {},
   "outputs": [
    {
     "data": {
      "text/plain": [
       "0         6\n",
       "1         1\n",
       "2         0\n",
       "3         0\n",
       "4         0\n",
       "         ..\n",
       "319068    6\n",
       "319069    3\n",
       "319070    3\n",
       "319071    1\n",
       "319072    0\n",
       "Name: OCCURRED_ON_DATE, Length: 319050, dtype: int32"
      ]
     },
     "execution_count": 35,
     "metadata": {},
     "output_type": "execute_result"
    }
   ],
   "source": [
    "crime.OCCURRED_ON_DATE.dt.weekday"
   ]
  },
  {
   "cell_type": "code",
   "execution_count": 36,
   "metadata": {},
   "outputs": [
    {
     "data": {
      "text/plain": [
       "0         13\n",
       "1          0\n",
       "2         19\n",
       "3         21\n",
       "4         21\n",
       "          ..\n",
       "319068    17\n",
       "319069    13\n",
       "319070    13\n",
       "319071    19\n",
       "319072     0\n",
       "Name: OCCURRED_ON_DATE, Length: 319050, dtype: int32"
      ]
     },
     "execution_count": 36,
     "metadata": {},
     "output_type": "execute_result"
    }
   ],
   "source": [
    "crime.OCCURRED_ON_DATE.dt.hour"
   ]
  },
  {
   "cell_type": "code",
   "execution_count": 37,
   "metadata": {},
   "outputs": [
    {
     "data": {
      "text/plain": [
       "0          0\n",
       "1          0\n",
       "2         27\n",
       "3         16\n",
       "4          5\n",
       "          ..\n",
       "319068    25\n",
       "319069    38\n",
       "319070    38\n",
       "319071    35\n",
       "319072    12\n",
       "Name: OCCURRED_ON_DATE, Length: 319050, dtype: int32"
      ]
     },
     "execution_count": 37,
     "metadata": {},
     "output_type": "execute_result"
    }
   ],
   "source": [
    "crime.OCCURRED_ON_DATE.dt.minute"
   ]
  },
  {
   "cell_type": "code",
   "execution_count": 38,
   "metadata": {},
   "outputs": [
    {
     "data": {
      "text/html": [
       "<div>\n",
       "<style scoped>\n",
       "    .dataframe tbody tr th:only-of-type {\n",
       "        vertical-align: middle;\n",
       "    }\n",
       "\n",
       "    .dataframe tbody tr th {\n",
       "        vertical-align: top;\n",
       "    }\n",
       "\n",
       "    .dataframe thead th {\n",
       "        text-align: right;\n",
       "    }\n",
       "</style>\n",
       "<table border=\"1\" class=\"dataframe\">\n",
       "  <thead>\n",
       "    <tr style=\"text-align: right;\">\n",
       "      <th></th>\n",
       "      <th>OFFENSE_CODE</th>\n",
       "      <th>OCCURRED_ON_DATE</th>\n",
       "      <th>YEAR</th>\n",
       "      <th>MONTH</th>\n",
       "      <th>HOUR</th>\n",
       "      <th>Lat</th>\n",
       "      <th>Long</th>\n",
       "    </tr>\n",
       "  </thead>\n",
       "  <tbody>\n",
       "    <tr>\n",
       "      <th>count</th>\n",
       "      <td>319050.000000</td>\n",
       "      <td>319050</td>\n",
       "      <td>319050.000000</td>\n",
       "      <td>319050.000000</td>\n",
       "      <td>319050.000000</td>\n",
       "      <td>299052.000000</td>\n",
       "      <td>299052.000000</td>\n",
       "    </tr>\n",
       "    <tr>\n",
       "      <th>mean</th>\n",
       "      <td>2317.516957</td>\n",
       "      <td>2017-01-25 12:35:59.149211904</td>\n",
       "      <td>2016.560674</td>\n",
       "      <td>6.609622</td>\n",
       "      <td>13.118176</td>\n",
       "      <td>42.214373</td>\n",
       "      <td>-70.908260</td>\n",
       "    </tr>\n",
       "    <tr>\n",
       "      <th>min</th>\n",
       "      <td>111.000000</td>\n",
       "      <td>2015-06-15 00:00:00</td>\n",
       "      <td>2015.000000</td>\n",
       "      <td>1.000000</td>\n",
       "      <td>0.000000</td>\n",
       "      <td>-1.000000</td>\n",
       "      <td>-71.178674</td>\n",
       "    </tr>\n",
       "    <tr>\n",
       "      <th>25%</th>\n",
       "      <td>1001.000000</td>\n",
       "      <td>2016-04-12 03:30:00</td>\n",
       "      <td>2016.000000</td>\n",
       "      <td>4.000000</td>\n",
       "      <td>9.000000</td>\n",
       "      <td>42.297438</td>\n",
       "      <td>-71.097135</td>\n",
       "    </tr>\n",
       "    <tr>\n",
       "      <th>50%</th>\n",
       "      <td>2907.000000</td>\n",
       "      <td>2017-01-28 04:36:00</td>\n",
       "      <td>2017.000000</td>\n",
       "      <td>7.000000</td>\n",
       "      <td>14.000000</td>\n",
       "      <td>42.325538</td>\n",
       "      <td>-71.077524</td>\n",
       "    </tr>\n",
       "    <tr>\n",
       "      <th>75%</th>\n",
       "      <td>3201.000000</td>\n",
       "      <td>2017-11-05 18:39:00</td>\n",
       "      <td>2017.000000</td>\n",
       "      <td>9.000000</td>\n",
       "      <td>18.000000</td>\n",
       "      <td>42.348624</td>\n",
       "      <td>-71.062467</td>\n",
       "    </tr>\n",
       "    <tr>\n",
       "      <th>max</th>\n",
       "      <td>3831.000000</td>\n",
       "      <td>2018-09-03 21:25:00</td>\n",
       "      <td>2018.000000</td>\n",
       "      <td>12.000000</td>\n",
       "      <td>23.000000</td>\n",
       "      <td>42.395042</td>\n",
       "      <td>-1.000000</td>\n",
       "    </tr>\n",
       "    <tr>\n",
       "      <th>std</th>\n",
       "      <td>1185.308921</td>\n",
       "      <td>NaN</td>\n",
       "      <td>0.996312</td>\n",
       "      <td>3.273677</td>\n",
       "      <td>6.294258</td>\n",
       "      <td>2.159845</td>\n",
       "      <td>3.493746</td>\n",
       "    </tr>\n",
       "  </tbody>\n",
       "</table>\n",
       "</div>"
      ],
      "text/plain": [
       "        OFFENSE_CODE               OCCURRED_ON_DATE           YEAR  \\\n",
       "count  319050.000000                         319050  319050.000000   \n",
       "mean     2317.516957  2017-01-25 12:35:59.149211904    2016.560674   \n",
       "min       111.000000            2015-06-15 00:00:00    2015.000000   \n",
       "25%      1001.000000            2016-04-12 03:30:00    2016.000000   \n",
       "50%      2907.000000            2017-01-28 04:36:00    2017.000000   \n",
       "75%      3201.000000            2017-11-05 18:39:00    2017.000000   \n",
       "max      3831.000000            2018-09-03 21:25:00    2018.000000   \n",
       "std      1185.308921                            NaN       0.996312   \n",
       "\n",
       "               MONTH           HOUR            Lat           Long  \n",
       "count  319050.000000  319050.000000  299052.000000  299052.000000  \n",
       "mean        6.609622      13.118176      42.214373     -70.908260  \n",
       "min         1.000000       0.000000      -1.000000     -71.178674  \n",
       "25%         4.000000       9.000000      42.297438     -71.097135  \n",
       "50%         7.000000      14.000000      42.325538     -71.077524  \n",
       "75%         9.000000      18.000000      42.348624     -71.062467  \n",
       "max        12.000000      23.000000      42.395042      -1.000000  \n",
       "std         3.273677       6.294258       2.159845       3.493746  "
      ]
     },
     "execution_count": 38,
     "metadata": {},
     "output_type": "execute_result"
    }
   ],
   "source": [
    "#Summary information on the numeric columns\n",
    "crime.describe()"
   ]
  },
  {
   "cell_type": "code",
   "execution_count": 39,
   "metadata": {},
   "outputs": [
    {
     "data": {
      "text/html": [
       "<div>\n",
       "<style scoped>\n",
       "    .dataframe tbody tr th:only-of-type {\n",
       "        vertical-align: middle;\n",
       "    }\n",
       "\n",
       "    .dataframe tbody tr th {\n",
       "        vertical-align: top;\n",
       "    }\n",
       "\n",
       "    .dataframe thead th {\n",
       "        text-align: right;\n",
       "    }\n",
       "</style>\n",
       "<table border=\"1\" class=\"dataframe\">\n",
       "  <thead>\n",
       "    <tr style=\"text-align: right;\">\n",
       "      <th></th>\n",
       "      <th>INCIDENT_NUMBER</th>\n",
       "      <th>OFFENSE_CODE_GROUP</th>\n",
       "      <th>OFFENSE_DESCRIPTION</th>\n",
       "      <th>DISTRICT</th>\n",
       "      <th>REPORTING_AREA</th>\n",
       "      <th>SHOOTING</th>\n",
       "      <th>DAY_OF_WEEK</th>\n",
       "      <th>UCR_PART</th>\n",
       "      <th>STREET</th>\n",
       "      <th>Location</th>\n",
       "    </tr>\n",
       "  </thead>\n",
       "  <tbody>\n",
       "    <tr>\n",
       "      <th>count</th>\n",
       "      <td>319050</td>\n",
       "      <td>319050</td>\n",
       "      <td>319050</td>\n",
       "      <td>317285</td>\n",
       "      <td>319050</td>\n",
       "      <td>1019</td>\n",
       "      <td>319050</td>\n",
       "      <td>318960</td>\n",
       "      <td>308179</td>\n",
       "      <td>319050</td>\n",
       "    </tr>\n",
       "    <tr>\n",
       "      <th>unique</th>\n",
       "      <td>282517</td>\n",
       "      <td>67</td>\n",
       "      <td>244</td>\n",
       "      <td>12</td>\n",
       "      <td>879</td>\n",
       "      <td>1</td>\n",
       "      <td>7</td>\n",
       "      <td>4</td>\n",
       "      <td>4657</td>\n",
       "      <td>18194</td>\n",
       "    </tr>\n",
       "    <tr>\n",
       "      <th>top</th>\n",
       "      <td>I162030584</td>\n",
       "      <td>Motor Vehicle Accident Response</td>\n",
       "      <td>SICK/INJURED/MEDICAL - PERSON</td>\n",
       "      <td>B2</td>\n",
       "      <td></td>\n",
       "      <td>Y</td>\n",
       "      <td>Friday</td>\n",
       "      <td>Part Three</td>\n",
       "      <td>WASHINGTON ST</td>\n",
       "      <td>(0.00000000, 0.00000000)</td>\n",
       "    </tr>\n",
       "    <tr>\n",
       "      <th>freq</th>\n",
       "      <td>13</td>\n",
       "      <td>37132</td>\n",
       "      <td>18783</td>\n",
       "      <td>49940</td>\n",
       "      <td>20250</td>\n",
       "      <td>1019</td>\n",
       "      <td>48489</td>\n",
       "      <td>158537</td>\n",
       "      <td>14192</td>\n",
       "      <td>19998</td>\n",
       "    </tr>\n",
       "  </tbody>\n",
       "</table>\n",
       "</div>"
      ],
      "text/plain": [
       "       INCIDENT_NUMBER               OFFENSE_CODE_GROUP  \\\n",
       "count           319050                           319050   \n",
       "unique          282517                               67   \n",
       "top         I162030584  Motor Vehicle Accident Response   \n",
       "freq                13                            37132   \n",
       "\n",
       "                  OFFENSE_DESCRIPTION DISTRICT REPORTING_AREA SHOOTING  \\\n",
       "count                          319050   317285         319050     1019   \n",
       "unique                            244       12            879        1   \n",
       "top     SICK/INJURED/MEDICAL - PERSON       B2                       Y   \n",
       "freq                            18783    49940          20250     1019   \n",
       "\n",
       "       DAY_OF_WEEK    UCR_PART         STREET                  Location  \n",
       "count       319050      318960         308179                    319050  \n",
       "unique           7           4           4657                     18194  \n",
       "top         Friday  Part Three  WASHINGTON ST  (0.00000000, 0.00000000)  \n",
       "freq         48489      158537          14192                     19998  "
      ]
     },
     "execution_count": 39,
     "metadata": {},
     "output_type": "execute_result"
    }
   ],
   "source": [
    "#Summary information on the non-numeric columns\n",
    "crime.describe(include='object')"
   ]
  },
  {
   "cell_type": "code",
   "execution_count": 40,
   "metadata": {},
   "outputs": [
    {
     "data": {
      "text/plain": [
       "Index(['INCIDENT_NUMBER', 'OFFENSE_CODE', 'OFFENSE_CODE_GROUP',\n",
       "       'OFFENSE_DESCRIPTION', 'DISTRICT', 'REPORTING_AREA', 'SHOOTING',\n",
       "       'OCCURRED_ON_DATE', 'YEAR', 'MONTH', 'DAY_OF_WEEK', 'HOUR', 'UCR_PART',\n",
       "       'STREET', 'Lat', 'Long', 'Location'],\n",
       "      dtype='object')"
      ]
     },
     "execution_count": 40,
     "metadata": {},
     "output_type": "execute_result"
    }
   ],
   "source": [
    "crime.columns"
   ]
  },
  {
   "cell_type": "code",
   "execution_count": 47,
   "metadata": {},
   "outputs": [
    {
     "name": "stderr",
     "output_type": "stream",
     "text": [
      "c:\\Users\\T14\\AppData\\Local\\Programs\\Python\\Python311\\Lib\\site-packages\\numpy\\core\\fromnumeric.py:86: FutureWarning: The behavior of DataFrame.sum with axis=None is deprecated, in a future version this will reduce over both axes and return a scalar. To retain the old behavior, pass axis=0 (or do not pass axis)\n",
      "  return reduction(axis=axis, out=out, **passkwargs)\n"
     ]
    },
    {
     "data": {
      "text/plain": [
       "INCIDENT_NUMBER            0\n",
       "OFFENSE_CODE               0\n",
       "OFFENSE_CODE_GROUP         0\n",
       "OFFENSE_DESCRIPTION        0\n",
       "DISTRICT                1765\n",
       "                       ...  \n",
       "UCR_PART                  90\n",
       "STREET                 10871\n",
       "Lat                    19998\n",
       "Long                   19998\n",
       "Location                   0\n",
       "Length: 17, dtype: int64"
      ]
     },
     "execution_count": 47,
     "metadata": {},
     "output_type": "execute_result"
    }
   ],
   "source": [
    "# Checking null values \n",
    "np.sum(crime.isnull())"
   ]
  },
  {
   "cell_type": "code",
   "execution_count": 41,
   "metadata": {},
   "outputs": [
    {
     "name": "stderr",
     "output_type": "stream",
     "text": [
      "c:\\Users\\T14\\AppData\\Local\\Programs\\Python\\Python311\\Lib\\site-packages\\numpy\\core\\fromnumeric.py:86: FutureWarning: The behavior of DataFrame.sum with axis=None is deprecated, in a future version this will reduce over both axes and return a scalar. To retain the old behavior, pass axis=0 (or do not pass axis)\n",
      "  return reduction(axis=axis, out=out, **passkwargs)\n"
     ]
    },
    {
     "data": {
      "text/plain": [
       "Index(['DISTRICT', 'SHOOTING', 'UCR_PART', 'STREET', 'Lat', 'Long'], dtype='object')"
      ]
     },
     "execution_count": 41,
     "metadata": {},
     "output_type": "execute_result"
    }
   ],
   "source": [
    "#Checking for columns with missing values\n",
    "crime.columns[np.sum(crime.isnull()) !=0]"
   ]
  },
  {
   "cell_type": "code",
   "execution_count": 48,
   "metadata": {},
   "outputs": [
    {
     "name": "stderr",
     "output_type": "stream",
     "text": [
      "c:\\Users\\T14\\AppData\\Local\\Programs\\Python\\Python311\\Lib\\site-packages\\numpy\\core\\fromnumeric.py:86: FutureWarning: The behavior of DataFrame.sum with axis=None is deprecated, in a future version this will reduce over both axes and return a scalar. To retain the old behavior, pass axis=0 (or do not pass axis)\n",
      "  return reduction(axis=axis, out=out, **passkwargs)\n"
     ]
    },
    {
     "data": {
      "text/plain": [
       "Index(['INCIDENT_NUMBER', 'OFFENSE_CODE', 'OFFENSE_CODE_GROUP',\n",
       "       'OFFENSE_DESCRIPTION', 'REPORTING_AREA', 'OCCURRED_ON_DATE', 'YEAR',\n",
       "       'MONTH', 'DAY_OF_WEEK', 'HOUR', 'Location'],\n",
       "      dtype='object')"
      ]
     },
     "execution_count": 48,
     "metadata": {},
     "output_type": "execute_result"
    }
   ],
   "source": [
    "#Checking for columns with no missing values\n",
    "crime.columns[np.sum(crime.isnull()) ==0]"
   ]
  },
  {
   "cell_type": "code",
   "execution_count": 45,
   "metadata": {},
   "outputs": [
    {
     "name": "stdout",
     "output_type": "stream",
     "text": [
      "INCIDENT_NUMBERhas 282517 unique values\n",
      "OFFENSE_CODEhas 222 unique values\n",
      "OFFENSE_CODE_GROUPhas 67 unique values\n",
      "OFFENSE_DESCRIPTIONhas 244 unique values\n",
      "DISTRICThas 12 unique values\n",
      "REPORTING_AREAhas 879 unique values\n",
      "SHOOTINGhas 1 unique values\n",
      "OCCURRED_ON_DATEhas 233229 unique values\n",
      "YEARhas 4 unique values\n",
      "MONTHhas 12 unique values\n",
      "DAY_OF_WEEKhas 7 unique values\n",
      "HOURhas 24 unique values\n",
      "UCR_PARThas 4 unique values\n",
      "STREEThas 4657 unique values\n",
      "Lathas 18178 unique values\n",
      "Longhas 18178 unique values\n",
      "Locationhas 18194 unique values\n"
     ]
    }
   ],
   "source": [
    "# Checking for the number of unique values in each column\n",
    "for col in crime.columns:\n",
    "    unique_count = crime[col].nunique()\n",
    "    print(col + \"has \" + str(unique_count) + \" unique values\")"
   ]
  },
  {
   "cell_type": "markdown",
   "metadata": {},
   "source": [
    "Let's answer some questions "
   ]
  },
  {
   "cell_type": "code",
   "execution_count": 49,
   "metadata": {},
   "outputs": [
    {
     "data": {
      "text/plain": [
       "OFFENSE_CODE_GROUP\n",
       "Motor Vehicle Accident Response              37132\n",
       "Larceny                                      25935\n",
       "Medical Assistance                           23540\n",
       "Investigate Person                           18749\n",
       "Other                                        18073\n",
       "                                             ...  \n",
       "HUMAN TRAFFICKING                                7\n",
       "INVESTIGATE PERSON                               4\n",
       "Biological Threat                                2\n",
       "HUMAN TRAFFICKING - INVOLUNTARY SERVITUDE        2\n",
       "Burglary - No Property Taken                     2\n",
       "Name: count, Length: 67, dtype: int64"
      ]
     },
     "execution_count": 49,
     "metadata": {},
     "output_type": "execute_result"
    }
   ],
   "source": [
    "#What are the most common crimes in terms of offense group?\n",
    "crime.OFFENSE_CODE_GROUP.value_counts()"
   ]
  },
  {
   "cell_type": "code",
   "execution_count": 52,
   "metadata": {},
   "outputs": [
    {
     "data": {
      "text/plain": [
       "OFFENSE_CODE_GROUP\n",
       "Motor Vehicle Accident Response    0.116383\n",
       "Larceny                            0.081288\n",
       "Medical Assistance                 0.073782\n",
       "Investigate Person                 0.058765\n",
       "Other                              0.056646\n",
       "Drug Violation                     0.051857\n",
       "Simple Assault                     0.049604\n",
       "Vandalism                          0.048312\n",
       "Verbal Disputes                    0.041056\n",
       "Towed                              0.035377\n",
       "Name: count, dtype: float64"
      ]
     },
     "metadata": {},
     "output_type": "display_data"
    },
    {
     "data": {
      "image/png": "[encoded data removed]",
      "text/plain": [
       "<Figure size 640x480 with 1 Axes>"
      ]
     },
     "metadata": {},
     "output_type": "display_data"
    }
   ],
   "source": [
    "offense_group_vals= crime.OFFENSE_CODE_GROUP.value_counts()[:10]\n",
    "\n",
    "display(offense_group_vals / crime.shape[0])\n",
    "\n",
    "# Creating a bar chart of the Top 10 offense groups\n",
    "(offense_group_vals / crime.shape[0]).plot(kind='bar');\n",
    "plt.title('Top 10 Offense Groups (as % of all crimes)');"
   ]
  },
  {
   "cell_type": "code",
   "execution_count": 54,
   "metadata": {},
   "outputs": [
    {
     "data": {
      "text/plain": [
       "OFFENSE_CODE_GROUP\n",
       "Burglary - No Property Taken                  2\n",
       "HUMAN TRAFFICKING - INVOLUNTARY SERVITUDE     2\n",
       "Biological Threat                             2\n",
       "INVESTIGATE PERSON                            4\n",
       "HUMAN TRAFFICKING                             7\n",
       "Gambling                                      8\n",
       "Manslaughter                                  8\n",
       "Explosives                                   27\n",
       "Phone Call Complaints                        31\n",
       "Aircraft                                     36\n",
       "Name: count, dtype: int64"
      ]
     },
     "execution_count": 54,
     "metadata": {},
     "output_type": "execute_result"
    }
   ],
   "source": [
    "#What are the least common offense groups?\n",
    "crime.OFFENSE_CODE_GROUP.value_counts().sort_values(ascending=True)[:10]"
   ]
  },
  {
   "cell_type": "code",
   "execution_count": null,
   "metadata": {},
   "outputs": [],
   "source": [
    "#Now try and create a bar chart of the Top 10 Offense Descriptions as a % of total crimes"
   ]
  },
  {
   "cell_type": "code",
   "execution_count": 55,
   "metadata": {},
   "outputs": [
    {
     "data": {
      "image/png": "[encoded data removed]",
      "text/plain": [
       "<Figure size 640x480 with 1 Axes>"
      ]
     },
     "metadata": {},
     "output_type": "display_data"
    }
   ],
   "source": [
    "# In which year were the most crimes commited=\n",
    "crime.groupby('YEAR').count()['INCIDENT_NUMBER'].plot(kind='bar');\n",
    "plt.title('Number of crimes');"
   ]
  },
  {
   "cell_type": "code",
   "execution_count": null,
   "metadata": {},
   "outputs": [],
   "source": [
    "#Are there more crimes committed on specific days?"
   ]
  },
  {
   "cell_type": "code",
   "execution_count": 56,
   "metadata": {},
   "outputs": [
    {
     "data": {
      "image/png": "[encoded data removed]",
      "text/plain": [
       "<Figure size 640x480 with 1 Axes>"
      ]
     },
     "metadata": {},
     "output_type": "display_data"
    }
   ],
   "source": [
    "# Are the more crime during specific hours?\n",
    "crime.groupby('HOUR').count()['INCIDENT_NUMBER'].plot(kind='bar');"
   ]
  },
  {
   "cell_type": "code",
   "execution_count": null,
   "metadata": {},
   "outputs": [],
   "source": [
    "# On what days and during which hours are the most crimes committed?"
   ]
  },
  {
   "cell_type": "code",
   "execution_count": 57,
   "metadata": {},
   "outputs": [],
   "source": [
    "week_and_hour = crime.groupby(['HOUR', 'DAY_OF_WEEK']).count()['INCIDENT_NUMBER'].unstack()"
   ]
  },
  {
   "cell_type": "code",
   "execution_count": 58,
   "metadata": {},
   "outputs": [],
   "source": [
    "week_and_hour.columns=['Monday', 'Tuesday', 'Wednesday', 'Thursday', 'Friday', 'Saturday', 'Sunday']"
   ]
  },
  {
   "cell_type": "code",
   "execution_count": 61,
   "metadata": {},
   "outputs": [
    {
     "data": {
      "image/png": "[encoded data removed]",
      "text/plain": [
       "<Figure size 640x480 with 2 Axes>"
      ]
     },
     "metadata": {},
     "output_type": "display_data"
    }
   ],
   "source": [
    "sns.heatmap(week_and_hour, cmap=sns.cubehelix_palette(as_cmap=True));"
   ]
  },
  {
   "cell_type": "code",
   "execution_count": 70,
   "metadata": {},
   "outputs": [
    {
     "name": "stdout",
     "output_type": "stream",
     "text": [
      "The average number of crimes is 7976.25\n"
     ]
    },
    {
     "name": "stderr",
     "output_type": "stream",
     "text": [
      "C:\\Users\\T14\\AppData\\Local\\Temp\\ipykernel_3468\\1941096689.py:10: FutureWarning: Styler.applymap has been deprecated. Use Styler.map instead.\n",
      "  s2 = year_and_month.style.applymap(style_negative, props ='color:blue;')\\\n",
      "C:\\Users\\T14\\AppData\\Local\\Temp\\ipykernel_3468\\1941096689.py:11: FutureWarning: Styler.applymap has been deprecated. Use Styler.map instead.\n",
      "  .applymap(lambda v:'opacity:20%,' if (v <0.3) and (v > -0.3) else None)\n"
     ]
    },
    {
     "data": {
      "text/html": [
       "<style type=\"text/css\">\n",
       "#T_df1a9_row0_col1, #T_df1a9_row0_col3, #T_df1a9_row1_col1, #T_df1a9_row1_col2, #T_df1a9_row1_col3, #T_df1a9_row2_col3, #T_df1a9_row3_col3, #T_df1a9_row5_col0, #T_df1a9_row8_col3, #T_df1a9_row10_col0, #T_df1a9_row10_col1, #T_df1a9_row10_col2, #T_df1a9_row11_col1, #T_df1a9_row11_col2 {\n",
       "  color: blue;\n",
       "}\n",
       "</style>\n",
       "<table id=\"T_df1a9\">\n",
       "  <thead>\n",
       "    <tr>\n",
       "      <th class=\"index_name level0\" >YEAR</th>\n",
       "      <th id=\"T_df1a9_level0_col0\" class=\"col_heading level0 col0\" >2015</th>\n",
       "      <th id=\"T_df1a9_level0_col1\" class=\"col_heading level0 col1\" >2016</th>\n",
       "      <th id=\"T_df1a9_level0_col2\" class=\"col_heading level0 col2\" >2017</th>\n",
       "      <th id=\"T_df1a9_level0_col3\" class=\"col_heading level0 col3\" >2018</th>\n",
       "    </tr>\n",
       "    <tr>\n",
       "      <th class=\"index_name level0\" >MONTH</th>\n",
       "      <th class=\"blank col0\" >&nbsp;</th>\n",
       "      <th class=\"blank col1\" >&nbsp;</th>\n",
       "      <th class=\"blank col2\" >&nbsp;</th>\n",
       "      <th class=\"blank col3\" >&nbsp;</th>\n",
       "    </tr>\n",
       "  </thead>\n",
       "  <tbody>\n",
       "    <tr>\n",
       "      <th id=\"T_df1a9_level0_row0\" class=\"row_heading level0 row0\" >1</th>\n",
       "      <td id=\"T_df1a9_row0_col0\" class=\"data row0 col0\" >nan</td>\n",
       "      <td id=\"T_df1a9_row0_col1\" class=\"data row0 col1\" >7835.000000</td>\n",
       "      <td id=\"T_df1a9_row0_col2\" class=\"data row0 col2\" >7991.000000</td>\n",
       "      <td id=\"T_df1a9_row0_col3\" class=\"data row0 col3\" >7782.000000</td>\n",
       "    </tr>\n",
       "    <tr>\n",
       "      <th id=\"T_df1a9_level0_row1\" class=\"row_heading level0 row1\" >2</th>\n",
       "      <td id=\"T_df1a9_row1_col0\" class=\"data row1 col0\" >nan</td>\n",
       "      <td id=\"T_df1a9_row1_col1\" class=\"data row1 col1\" >7307.000000</td>\n",
       "      <td id=\"T_df1a9_row1_col2\" class=\"data row1 col2\" >7408.000000</td>\n",
       "      <td id=\"T_df1a9_row1_col3\" class=\"data row1 col3\" >6937.000000</td>\n",
       "    </tr>\n",
       "    <tr>\n",
       "      <th id=\"T_df1a9_level0_row2\" class=\"row_heading level0 row2\" >3</th>\n",
       "      <td id=\"T_df1a9_row2_col0\" class=\"data row2 col0\" >nan</td>\n",
       "      <td id=\"T_df1a9_row2_col1\" class=\"data row2 col1\" >8199.000000</td>\n",
       "      <td id=\"T_df1a9_row2_col2\" class=\"data row2 col2\" >8179.000000</td>\n",
       "      <td id=\"T_df1a9_row2_col3\" class=\"data row2 col3\" >7768.000000</td>\n",
       "    </tr>\n",
       "    <tr>\n",
       "      <th id=\"T_df1a9_level0_row3\" class=\"row_heading level0 row3\" >4</th>\n",
       "      <td id=\"T_df1a9_row3_col0\" class=\"data row3 col0\" >nan</td>\n",
       "      <td id=\"T_df1a9_row3_col1\" class=\"data row3 col1\" >8101.000000</td>\n",
       "      <td id=\"T_df1a9_row3_col2\" class=\"data row3 col2\" >8069.000000</td>\n",
       "      <td id=\"T_df1a9_row3_col3\" class=\"data row3 col3\" >7916.000000</td>\n",
       "    </tr>\n",
       "    <tr>\n",
       "      <th id=\"T_df1a9_level0_row4\" class=\"row_heading level0 row4\" >5</th>\n",
       "      <td id=\"T_df1a9_row4_col0\" class=\"data row4 col0\" >nan</td>\n",
       "      <td id=\"T_df1a9_row4_col1\" class=\"data row4 col1\" >8578.000000</td>\n",
       "      <td id=\"T_df1a9_row4_col2\" class=\"data row4 col2\" >8715.000000</td>\n",
       "      <td id=\"T_df1a9_row4_col3\" class=\"data row4 col3\" >8906.000000</td>\n",
       "    </tr>\n",
       "    <tr>\n",
       "      <th id=\"T_df1a9_level0_row5\" class=\"row_heading level0 row5\" >6</th>\n",
       "      <td id=\"T_df1a9_row5_col0\" class=\"data row5 col0\" >4188.000000</td>\n",
       "      <td id=\"T_df1a9_row5_col1\" class=\"data row5 col1\" >8558.000000</td>\n",
       "      <td id=\"T_df1a9_row5_col2\" class=\"data row5 col2\" >8985.000000</td>\n",
       "      <td id=\"T_df1a9_row5_col3\" class=\"data row5 col3\" >8834.000000</td>\n",
       "    </tr>\n",
       "    <tr>\n",
       "      <th id=\"T_df1a9_level0_row6\" class=\"row_heading level0 row6\" >7</th>\n",
       "      <td id=\"T_df1a9_row6_col0\" class=\"data row6 col0\" >8322.000000</td>\n",
       "      <td id=\"T_df1a9_row6_col1\" class=\"data row6 col1\" >8618.000000</td>\n",
       "      <td id=\"T_df1a9_row6_col2\" class=\"data row6 col2\" >9075.000000</td>\n",
       "      <td id=\"T_df1a9_row6_col3\" class=\"data row6 col3\" >8538.000000</td>\n",
       "    </tr>\n",
       "    <tr>\n",
       "      <th id=\"T_df1a9_level0_row7\" class=\"row_heading level0 row7\" >8</th>\n",
       "      <td id=\"T_df1a9_row7_col0\" class=\"data row7 col0\" >8340.000000</td>\n",
       "      <td id=\"T_df1a9_row7_col1\" class=\"data row7 col1\" >8938.000000</td>\n",
       "      <td id=\"T_df1a9_row7_col2\" class=\"data row7 col2\" >9206.000000</td>\n",
       "      <td id=\"T_df1a9_row7_col3\" class=\"data row7 col3\" >8337.000000</td>\n",
       "    </tr>\n",
       "    <tr>\n",
       "      <th id=\"T_df1a9_level0_row8\" class=\"row_heading level0 row8\" >9</th>\n",
       "      <td id=\"T_df1a9_row8_col0\" class=\"data row8 col0\" >8411.000000</td>\n",
       "      <td id=\"T_df1a9_row8_col1\" class=\"data row8 col1\" >8521.000000</td>\n",
       "      <td id=\"T_df1a9_row8_col2\" class=\"data row8 col2\" >8940.000000</td>\n",
       "      <td id=\"T_df1a9_row8_col3\" class=\"data row8 col3\" >667.000000</td>\n",
       "    </tr>\n",
       "    <tr>\n",
       "      <th id=\"T_df1a9_level0_row9\" class=\"row_heading level0 row9\" >10</th>\n",
       "      <td id=\"T_df1a9_row9_col0\" class=\"data row9 col0\" >8305.000000</td>\n",
       "      <td id=\"T_df1a9_row9_col1\" class=\"data row9 col1\" >8582.000000</td>\n",
       "      <td id=\"T_df1a9_row9_col2\" class=\"data row9 col2\" >8846.000000</td>\n",
       "      <td id=\"T_df1a9_row9_col3\" class=\"data row9 col3\" >nan</td>\n",
       "    </tr>\n",
       "    <tr>\n",
       "      <th id=\"T_df1a9_level0_row10\" class=\"row_heading level0 row10\" >11</th>\n",
       "      <td id=\"T_df1a9_row10_col0\" class=\"data row10 col0\" >7818.000000</td>\n",
       "      <td id=\"T_df1a9_row10_col1\" class=\"data row10 col1\" >7922.000000</td>\n",
       "      <td id=\"T_df1a9_row10_col2\" class=\"data row10 col2\" >7935.000000</td>\n",
       "      <td id=\"T_df1a9_row10_col3\" class=\"data row10 col3\" >nan</td>\n",
       "    </tr>\n",
       "    <tr>\n",
       "      <th id=\"T_df1a9_level0_row11\" class=\"row_heading level0 row11\" >12</th>\n",
       "      <td id=\"T_df1a9_row11_col0\" class=\"data row11 col0\" >7987.000000</td>\n",
       "      <td id=\"T_df1a9_row11_col1\" class=\"data row11 col1\" >7951.000000</td>\n",
       "      <td id=\"T_df1a9_row11_col2\" class=\"data row11 col2\" >7535.000000</td>\n",
       "      <td id=\"T_df1a9_row11_col3\" class=\"data row11 col3\" >nan</td>\n",
       "    </tr>\n",
       "  </tbody>\n",
       "</table>\n"
      ],
      "text/plain": [
       "<pandas.io.formats.style.Styler at 0x2950cd2b1d0>"
      ]
     },
     "execution_count": 70,
     "metadata": {},
     "output_type": "execute_result"
    }
   ],
   "source": [
    "# If the values is less than the average crime per month, highlight the values in blue\n",
    "\n",
    "avg_crime = crime.groupby(['YEAR', 'MONTH']).count()['INCIDENT_NUMBER'].mean()\n",
    "print(\"The average number of crimes is \" + str(avg_crime))\n",
    "\n",
    "year_and_month = crime.groupby(['MONTH', 'YEAR']).count()['INCIDENT_NUMBER'].unstack()\n",
    "\n",
    "def style_negative(v, props=\"\"):\n",
    "    return props if v < avg_crime else None\n",
    "s2 = year_and_month.style.applymap(style_negative, props ='color:blue;')\\\n",
    "        .applymap(lambda v:'opacity:20%,' if (v <0.3) and (v > -0.3) else None)\n",
    "s2"
   ]
  },
  {
   "cell_type": "code",
   "execution_count": 71,
   "metadata": {},
   "outputs": [
    {
     "data": {
      "text/html": [
       "<style type=\"text/css\">\n",
       "#T_df1a9_row0_col1, #T_df1a9_row0_col3, #T_df1a9_row1_col1, #T_df1a9_row1_col2, #T_df1a9_row1_col3, #T_df1a9_row2_col3, #T_df1a9_row3_col3, #T_df1a9_row5_col0, #T_df1a9_row8_col3, #T_df1a9_row10_col0, #T_df1a9_row10_col1, #T_df1a9_row10_col2, #T_df1a9_row11_col1, #T_df1a9_row11_col2 {\n",
       "  color: blue;\n",
       "}\n",
       "#T_df1a9_row4_col3, #T_df1a9_row7_col1, #T_df1a9_row7_col2, #T_df1a9_row8_col0 {\n",
       "  color: white;\n",
       "  background-color: darkgreen;\n",
       "}\n",
       "</style>\n",
       "<table id=\"T_df1a9\">\n",
       "  <thead>\n",
       "    <tr>\n",
       "      <th class=\"index_name level0\" >YEAR</th>\n",
       "      <th id=\"T_df1a9_level0_col0\" class=\"col_heading level0 col0\" >2015</th>\n",
       "      <th id=\"T_df1a9_level0_col1\" class=\"col_heading level0 col1\" >2016</th>\n",
       "      <th id=\"T_df1a9_level0_col2\" class=\"col_heading level0 col2\" >2017</th>\n",
       "      <th id=\"T_df1a9_level0_col3\" class=\"col_heading level0 col3\" >2018</th>\n",
       "    </tr>\n",
       "    <tr>\n",
       "      <th class=\"index_name level0\" >MONTH</th>\n",
       "      <th class=\"blank col0\" >&nbsp;</th>\n",
       "      <th class=\"blank col1\" >&nbsp;</th>\n",
       "      <th class=\"blank col2\" >&nbsp;</th>\n",
       "      <th class=\"blank col3\" >&nbsp;</th>\n",
       "    </tr>\n",
       "  </thead>\n",
       "  <tbody>\n",
       "    <tr>\n",
       "      <th id=\"T_df1a9_level0_row0\" class=\"row_heading level0 row0\" >1</th>\n",
       "      <td id=\"T_df1a9_row0_col0\" class=\"data row0 col0\" >nan</td>\n",
       "      <td id=\"T_df1a9_row0_col1\" class=\"data row0 col1\" >7835.000000</td>\n",
       "      <td id=\"T_df1a9_row0_col2\" class=\"data row0 col2\" >7991.000000</td>\n",
       "      <td id=\"T_df1a9_row0_col3\" class=\"data row0 col3\" >7782.000000</td>\n",
       "    </tr>\n",
       "    <tr>\n",
       "      <th id=\"T_df1a9_level0_row1\" class=\"row_heading level0 row1\" >2</th>\n",
       "      <td id=\"T_df1a9_row1_col0\" class=\"data row1 col0\" >nan</td>\n",
       "      <td id=\"T_df1a9_row1_col1\" class=\"data row1 col1\" >7307.000000</td>\n",
       "      <td id=\"T_df1a9_row1_col2\" class=\"data row1 col2\" >7408.000000</td>\n",
       "      <td id=\"T_df1a9_row1_col3\" class=\"data row1 col3\" >6937.000000</td>\n",
       "    </tr>\n",
       "    <tr>\n",
       "      <th id=\"T_df1a9_level0_row2\" class=\"row_heading level0 row2\" >3</th>\n",
       "      <td id=\"T_df1a9_row2_col0\" class=\"data row2 col0\" >nan</td>\n",
       "      <td id=\"T_df1a9_row2_col1\" class=\"data row2 col1\" >8199.000000</td>\n",
       "      <td id=\"T_df1a9_row2_col2\" class=\"data row2 col2\" >8179.000000</td>\n",
       "      <td id=\"T_df1a9_row2_col3\" class=\"data row2 col3\" >7768.000000</td>\n",
       "    </tr>\n",
       "    <tr>\n",
       "      <th id=\"T_df1a9_level0_row3\" class=\"row_heading level0 row3\" >4</th>\n",
       "      <td id=\"T_df1a9_row3_col0\" class=\"data row3 col0\" >nan</td>\n",
       "      <td id=\"T_df1a9_row3_col1\" class=\"data row3 col1\" >8101.000000</td>\n",
       "      <td id=\"T_df1a9_row3_col2\" class=\"data row3 col2\" >8069.000000</td>\n",
       "      <td id=\"T_df1a9_row3_col3\" class=\"data row3 col3\" >7916.000000</td>\n",
       "    </tr>\n",
       "    <tr>\n",
       "      <th id=\"T_df1a9_level0_row4\" class=\"row_heading level0 row4\" >5</th>\n",
       "      <td id=\"T_df1a9_row4_col0\" class=\"data row4 col0\" >nan</td>\n",
       "      <td id=\"T_df1a9_row4_col1\" class=\"data row4 col1\" >8578.000000</td>\n",
       "      <td id=\"T_df1a9_row4_col2\" class=\"data row4 col2\" >8715.000000</td>\n",
       "      <td id=\"T_df1a9_row4_col3\" class=\"data row4 col3\" >8906.000000</td>\n",
       "    </tr>\n",
       "    <tr>\n",
       "      <th id=\"T_df1a9_level0_row5\" class=\"row_heading level0 row5\" >6</th>\n",
       "      <td id=\"T_df1a9_row5_col0\" class=\"data row5 col0\" >4188.000000</td>\n",
       "      <td id=\"T_df1a9_row5_col1\" class=\"data row5 col1\" >8558.000000</td>\n",
       "      <td id=\"T_df1a9_row5_col2\" class=\"data row5 col2\" >8985.000000</td>\n",
       "      <td id=\"T_df1a9_row5_col3\" class=\"data row5 col3\" >8834.000000</td>\n",
       "    </tr>\n",
       "    <tr>\n",
       "      <th id=\"T_df1a9_level0_row6\" class=\"row_heading level0 row6\" >7</th>\n",
       "      <td id=\"T_df1a9_row6_col0\" class=\"data row6 col0\" >8322.000000</td>\n",
       "      <td id=\"T_df1a9_row6_col1\" class=\"data row6 col1\" >8618.000000</td>\n",
       "      <td id=\"T_df1a9_row6_col2\" class=\"data row6 col2\" >9075.000000</td>\n",
       "      <td id=\"T_df1a9_row6_col3\" class=\"data row6 col3\" >8538.000000</td>\n",
       "    </tr>\n",
       "    <tr>\n",
       "      <th id=\"T_df1a9_level0_row7\" class=\"row_heading level0 row7\" >8</th>\n",
       "      <td id=\"T_df1a9_row7_col0\" class=\"data row7 col0\" >8340.000000</td>\n",
       "      <td id=\"T_df1a9_row7_col1\" class=\"data row7 col1\" >8938.000000</td>\n",
       "      <td id=\"T_df1a9_row7_col2\" class=\"data row7 col2\" >9206.000000</td>\n",
       "      <td id=\"T_df1a9_row7_col3\" class=\"data row7 col3\" >8337.000000</td>\n",
       "    </tr>\n",
       "    <tr>\n",
       "      <th id=\"T_df1a9_level0_row8\" class=\"row_heading level0 row8\" >9</th>\n",
       "      <td id=\"T_df1a9_row8_col0\" class=\"data row8 col0\" >8411.000000</td>\n",
       "      <td id=\"T_df1a9_row8_col1\" class=\"data row8 col1\" >8521.000000</td>\n",
       "      <td id=\"T_df1a9_row8_col2\" class=\"data row8 col2\" >8940.000000</td>\n",
       "      <td id=\"T_df1a9_row8_col3\" class=\"data row8 col3\" >667.000000</td>\n",
       "    </tr>\n",
       "    <tr>\n",
       "      <th id=\"T_df1a9_level0_row9\" class=\"row_heading level0 row9\" >10</th>\n",
       "      <td id=\"T_df1a9_row9_col0\" class=\"data row9 col0\" >8305.000000</td>\n",
       "      <td id=\"T_df1a9_row9_col1\" class=\"data row9 col1\" >8582.000000</td>\n",
       "      <td id=\"T_df1a9_row9_col2\" class=\"data row9 col2\" >8846.000000</td>\n",
       "      <td id=\"T_df1a9_row9_col3\" class=\"data row9 col3\" >nan</td>\n",
       "    </tr>\n",
       "    <tr>\n",
       "      <th id=\"T_df1a9_level0_row10\" class=\"row_heading level0 row10\" >11</th>\n",
       "      <td id=\"T_df1a9_row10_col0\" class=\"data row10 col0\" >7818.000000</td>\n",
       "      <td id=\"T_df1a9_row10_col1\" class=\"data row10 col1\" >7922.000000</td>\n",
       "      <td id=\"T_df1a9_row10_col2\" class=\"data row10 col2\" >7935.000000</td>\n",
       "      <td id=\"T_df1a9_row10_col3\" class=\"data row10 col3\" >nan</td>\n",
       "    </tr>\n",
       "    <tr>\n",
       "      <th id=\"T_df1a9_level0_row11\" class=\"row_heading level0 row11\" >12</th>\n",
       "      <td id=\"T_df1a9_row11_col0\" class=\"data row11 col0\" >7987.000000</td>\n",
       "      <td id=\"T_df1a9_row11_col1\" class=\"data row11 col1\" >7951.000000</td>\n",
       "      <td id=\"T_df1a9_row11_col2\" class=\"data row11 col2\" >7535.000000</td>\n",
       "      <td id=\"T_df1a9_row11_col3\" class=\"data row11 col3\" >nan</td>\n",
       "    </tr>\n",
       "  </tbody>\n",
       "</table>\n"
      ],
      "text/plain": [
       "<pandas.io.formats.style.Styler at 0x2950cd2b1d0>"
      ]
     },
     "execution_count": 71,
     "metadata": {},
     "output_type": "execute_result"
    }
   ],
   "source": [
    "#use apply to highlight the maximum in a column in darkgreen\n",
    "\n",
    "def highlight_max(s, props=\"\"):\n",
    "    return np.where(s== np.nanmax(s.values), props,\"\")\n",
    "s2.apply(highlight_max, props='color:white;background-color:darkgreen', axis=0)"
   ]
  }
 ],
 "metadata": {
  "kernelspec": {
   "display_name": "Python 3",
   "language": "python",
   "name": "python3"
  },
  "language_info": {
   "codemirror_mode": {
    "name": "ipython",
    "version": 3
   },
   "file_extension": ".py",
   "mimetype": "text/x-python",
   "name": "python",
   "nbconvert_exporter": "python",
   "pygments_lexer": "ipython3",
   "version": "3.11.3"
  }
 },
 "nbformat": 4,
 "nbformat_minor": 2
}
